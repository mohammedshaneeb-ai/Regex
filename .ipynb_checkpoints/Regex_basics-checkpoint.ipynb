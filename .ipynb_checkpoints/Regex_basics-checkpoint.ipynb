{
 "cells": [
  {
   "cell_type": "code",
   "execution_count": 3,
   "id": "ea3a047c",
   "metadata": {},
   "outputs": [],
   "source": [
    "import re"
   ]
  },
  {
   "cell_type": "code",
   "execution_count": 23,
   "id": "56bc664d",
   "metadata": {},
   "outputs": [],
   "source": [
    "chat1 = 'my phone number is 1234567890 and email is shanEeb_A123@gmail.com'\n",
    "chat2 = 'here it is: (123)-567-1234 , shaneeb_KottakkAl@yahoo.com'\n",
    "chat3 = 'phone: 1234567890 email: shaneeB_kottakkal@gmail.com'\n",
    "allchat = chat1+' '+chat2+' '+chat3\n"
   ]
  },
  {
   "cell_type": "code",
   "execution_count": 24,
   "id": "4df5650f",
   "metadata": {},
   "outputs": [
    {
     "data": {
      "text/plain": [
       "'my phone number is 1234567890 and email is shanEeb_A123@gmail.com here it is: (123)-567-1234 , shaneeb_KottakkAl@yahoo.com phone: 1234567890 email: shaneeB_kottakkal@gmail.com'"
      ]
     },
     "execution_count": 24,
     "metadata": {},
     "output_type": "execute_result"
    }
   ],
   "source": [
    "allchat"
   ]
  },
  {
   "cell_type": "code",
   "execution_count": 10,
   "id": "92d7758d",
   "metadata": {},
   "outputs": [
    {
     "data": {
      "text/plain": [
       "[]"
      ]
     },
     "execution_count": 10,
     "metadata": {},
     "output_type": "execute_result"
    }
   ],
   "source": [
    "pattern = '\\d{10}'\n",
    "\n",
    "matches = re.findall(pattern,chat2)\n",
    "matches"
   ]
  },
  {
   "cell_type": "code",
   "execution_count": 16,
   "id": "bb094d56",
   "metadata": {},
   "outputs": [
    {
     "data": {
      "text/plain": [
       "['(123)-567-1234']"
      ]
     },
     "execution_count": 16,
     "metadata": {},
     "output_type": "execute_result"
    }
   ],
   "source": [
    "pattern = '\\(\\d{3}\\)-\\d{3}-\\d{4}'\n",
    "matches = re.findall(pattern,chat2)\n",
    "matches"
   ]
  },
  {
   "cell_type": "code",
   "execution_count": 25,
   "id": "e1691d3c",
   "metadata": {},
   "outputs": [
    {
     "data": {
      "text/plain": [
       "['shanEeb_A123@gmail.com',\n",
       " 'shaneeb_KottakkAl@yahoo.com',\n",
       " 'shaneeB_kottakkal@gmail.com']"
      ]
     },
     "execution_count": 25,
     "metadata": {},
     "output_type": "execute_result"
    }
   ],
   "source": [
    "pattern = '[a-zA-Z\\d_]*@[a-zA-z]*\\.[a-zA-Z]*'\n",
    "matches = re.findall(pattern,allchat)\n",
    "matches"
   ]
  },
  {
   "cell_type": "code",
   "execution_count": 26,
   "id": "0a815f4e",
   "metadata": {},
   "outputs": [],
   "source": [
    "chat = 'I have issue with this order number 123456 my order # 123456 my order 123456'"
   ]
  },
  {
   "cell_type": "code",
   "execution_count": 29,
   "id": "c136ecf8",
   "metadata": {},
   "outputs": [
    {
     "data": {
      "text/plain": [
       "['123456', '123456', '123456']"
      ]
     },
     "execution_count": 29,
     "metadata": {},
     "output_type": "execute_result"
    }
   ],
   "source": [
    "pattern = 'order[^\\d]*(\\d*)'\n",
    "\n",
    "matches = re.findall(pattern, chat)\n",
    "matches"
   ]
  },
  {
   "cell_type": "code",
   "execution_count": 77,
   "id": "e68ebaa6",
   "metadata": {},
   "outputs": [],
   "source": [
    "elon = '''Born\tElon Reeve Musk\n",
    "June 28, 1971 (age 52)\n",
    "Pretoria, Transvaal, South Africa\n",
    "Education\tUniversity of Pennsylvania (BA, BS)\n",
    "Title\t\n",
    "Founder, CEO, and chief engineer of SpaceX\n",
    "CEO and product architect of Tesla, Inc.\n",
    "Owner and CTO of Twitter\n",
    "President of the Musk Foundation\n",
    "Founder of the Boring Company, X Corp., and xAI\n",
    "Co-founder of Neuralink, OpenAI, Zip2, and X.com (part of PayPal)\n",
    "Spouses\t\n",
    "Justine Wilson\n",
    "​\n",
    "​(m. 2000; div. 2008)​\n",
    "Talulah Riley\n",
    "​\n",
    "​(m. 2010; div. 2012)​\n",
    "​\n",
    "​(m. 2013; div. 2016)​\n",
    "Partner\tGrimes (2018–2021)[1]\n",
    "Children\t10[a][3]\n",
    "Parents\t\n",
    "Errol Musk (father)\n",
    "Maye Musk (mother)\n",
    "Family\tMusk family'''\n"
   ]
  },
  {
   "cell_type": "code",
   "execution_count": 31,
   "id": "3dc0ab98",
   "metadata": {},
   "outputs": [
    {
     "data": {
      "text/plain": [
       "['52']"
      ]
     },
     "execution_count": 31,
     "metadata": {},
     "output_type": "execute_result"
    }
   ],
   "source": [
    "pattern = 'age.(\\d+)'\n",
    "matches = re.findall(pattern, elon)\n",
    "matches"
   ]
  },
  {
   "cell_type": "code",
   "execution_count": 38,
   "id": "48c35671",
   "metadata": {},
   "outputs": [
    {
     "data": {
      "text/plain": [
       "'Elon Reeve Musk'"
      ]
     },
     "execution_count": 38,
     "metadata": {},
     "output_type": "execute_result"
    }
   ],
   "source": [
    "pattern = 'Born(.*)'\n",
    "matches = re.findall(pattern, elon)\n",
    "matches[0].strip()"
   ]
  },
  {
   "cell_type": "code",
   "execution_count": 56,
   "id": "66f712b6",
   "metadata": {},
   "outputs": [
    {
     "data": {
      "text/plain": [
       "'June 28, 1971'"
      ]
     },
     "execution_count": 56,
     "metadata": {},
     "output_type": "execute_result"
    }
   ],
   "source": [
    "pattern = 'Born.*\\n(.*)\\(age'\n",
    "matches = re.findall(pattern, elon)\n",
    "matches[0].strip()"
   ]
  },
  {
   "cell_type": "code",
   "execution_count": 51,
   "id": "96c0b80f",
   "metadata": {},
   "outputs": [
    {
     "data": {
      "text/plain": [
       "['Pretoria, Transvaal, South Africa']"
      ]
     },
     "execution_count": 51,
     "metadata": {},
     "output_type": "execute_result"
    }
   ],
   "source": [
    "pattern = 'age.*\\n(.*)'\n",
    "matches = re.findall(pattern, elon)\n",
    "matches"
   ]
  },
  {
   "cell_type": "code",
   "execution_count": 59,
   "id": "bdedf070",
   "metadata": {},
   "outputs": [],
   "source": [
    "def get_pattern_match(pattern,text):\n",
    "    matches = re.findall(pattern, text)\n",
    "    if matches:\n",
    "        return matches[0].strip()"
   ]
  },
  {
   "cell_type": "code",
   "execution_count": null,
   "id": "d05e7e8c",
   "metadata": {},
   "outputs": [],
   "source": []
  },
  {
   "cell_type": "code",
   "execution_count": 67,
   "id": "89e414e7",
   "metadata": {},
   "outputs": [],
   "source": [
    "def get_personal_information(text):\n",
    "    name = get_pattern_match('Born(.*)',text)\n",
    "    age = get_pattern_match('age.(\\d+)',text)\n",
    "    DOB = get_pattern_match('Born.*\\n(.*)\\(age',text)\n",
    "    place = get_pattern_match('age.*\\n(.*)',text)\n",
    "    \n",
    "    return {\n",
    "        'name' : name,\n",
    "        'age' : age,\n",
    "        'DOB': DOB,\n",
    "        'Place': place\n",
    "    }\n",
    "    "
   ]
  },
  {
   "cell_type": "code",
   "execution_count": null,
   "id": "3662edab",
   "metadata": {},
   "outputs": [],
   "source": []
  },
  {
   "cell_type": "code",
   "execution_count": 68,
   "id": "b39d5da3",
   "metadata": {},
   "outputs": [
    {
     "data": {
      "text/plain": [
       "{'name': 'Elon Reeve Musk',\n",
       " 'age': '52',\n",
       " 'DOB': 'June 28, 1971',\n",
       " 'Place': 'Pretoria, Transvaal, South Africa'}"
      ]
     },
     "execution_count": 68,
     "metadata": {},
     "output_type": "execute_result"
    }
   ],
   "source": [
    "BIO_Data_elon = get_personal_information(elon)\n",
    "BIO_Data"
   ]
  },
  {
   "cell_type": "code",
   "execution_count": 75,
   "id": "ba8f4123",
   "metadata": {},
   "outputs": [],
   "source": [
    "def dic_to_pandas(dic):\n",
    "    bio_data = pd.DataFrame([dic])\n",
    "    return bio_data"
   ]
  },
  {
   "cell_type": "code",
   "execution_count": 76,
   "id": "f0fc8c4d",
   "metadata": {},
   "outputs": [
    {
     "data": {
      "text/html": [
       "<div>\n",
       "<style scoped>\n",
       "    .dataframe tbody tr th:only-of-type {\n",
       "        vertical-align: middle;\n",
       "    }\n",
       "\n",
       "    .dataframe tbody tr th {\n",
       "        vertical-align: top;\n",
       "    }\n",
       "\n",
       "    .dataframe thead th {\n",
       "        text-align: right;\n",
       "    }\n",
       "</style>\n",
       "<table border=\"1\" class=\"dataframe\">\n",
       "  <thead>\n",
       "    <tr style=\"text-align: right;\">\n",
       "      <th></th>\n",
       "      <th>name</th>\n",
       "      <th>age</th>\n",
       "      <th>DOB</th>\n",
       "      <th>Place</th>\n",
       "    </tr>\n",
       "  </thead>\n",
       "  <tbody>\n",
       "    <tr>\n",
       "      <th>0</th>\n",
       "      <td>Elon Reeve Musk</td>\n",
       "      <td>52</td>\n",
       "      <td>June 28, 1971</td>\n",
       "      <td>Pretoria, Transvaal, South Africa</td>\n",
       "    </tr>\n",
       "  </tbody>\n",
       "</table>\n",
       "</div>"
      ],
      "text/plain": [
       "              name age            DOB                              Place\n",
       "0  Elon Reeve Musk  52  June 28, 1971  Pretoria, Transvaal, South Africa"
      ]
     },
     "execution_count": 76,
     "metadata": {},
     "output_type": "execute_result"
    }
   ],
   "source": [
    "elon_df = dic_to_pandas(BIO_Data)\n",
    "elon_df"
   ]
  },
  {
   "cell_type": "code",
   "execution_count": 70,
   "id": "9964e8cb",
   "metadata": {},
   "outputs": [
    {
     "data": {
      "text/html": [
       "<div>\n",
       "<style scoped>\n",
       "    .dataframe tbody tr th:only-of-type {\n",
       "        vertical-align: middle;\n",
       "    }\n",
       "\n",
       "    .dataframe tbody tr th {\n",
       "        vertical-align: top;\n",
       "    }\n",
       "\n",
       "    .dataframe thead th {\n",
       "        text-align: right;\n",
       "    }\n",
       "</style>\n",
       "<table border=\"1\" class=\"dataframe\">\n",
       "  <thead>\n",
       "    <tr style=\"text-align: right;\">\n",
       "      <th></th>\n",
       "      <th>name</th>\n",
       "      <th>age</th>\n",
       "      <th>DOB</th>\n",
       "      <th>Place</th>\n",
       "    </tr>\n",
       "  </thead>\n",
       "  <tbody>\n",
       "    <tr>\n",
       "      <th>0</th>\n",
       "      <td>Elon Reeve Musk</td>\n",
       "      <td>52</td>\n",
       "      <td>June 28, 1971</td>\n",
       "      <td>Pretoria, Transvaal, South Africa</td>\n",
       "    </tr>\n",
       "  </tbody>\n",
       "</table>\n",
       "</div>"
      ],
      "text/plain": [
       "              name age            DOB                              Place\n",
       "0  Elon Reeve Musk  52  June 28, 1971  Pretoria, Transvaal, South Africa"
      ]
     },
     "execution_count": 70,
     "metadata": {},
     "output_type": "execute_result"
    }
   ],
   "source": [
    "import pandas as pd\n",
    "bio_data = pd.DataFrame([BIO_Data])\n",
    "bio_data"
   ]
  },
  {
   "cell_type": "code",
   "execution_count": 80,
   "id": "673dae88",
   "metadata": {},
   "outputs": [],
   "source": [
    "tim_cook = '''Born\tTimothy Donald Cook\n",
    "November 1, 1960 (age 62)\n",
    "Mobile, Alabama, U.S.\n",
    "Education\tAuburn University (BS)\n",
    "\n",
    "Duke University (MBA)\n",
    "Title\tCEO of Apple Inc. (2011–present)\n",
    "Website\tApple Leadership Profile\n",
    "'''"
   ]
  },
  {
   "cell_type": "code",
   "execution_count": 81,
   "id": "af5cfa65",
   "metadata": {},
   "outputs": [],
   "source": [
    "bio_data_tim = get_personal_information(tim_cook)"
   ]
  },
  {
   "cell_type": "code",
   "execution_count": 82,
   "id": "df3880b4",
   "metadata": {
    "scrolled": true
   },
   "outputs": [
    {
     "data": {
      "text/plain": [
       "{'name': 'Timothy Donald Cook',\n",
       " 'age': '62',\n",
       " 'DOB': 'November 1, 1960',\n",
       " 'Place': 'Mobile, Alabama, U.S.'}"
      ]
     },
     "execution_count": 82,
     "metadata": {},
     "output_type": "execute_result"
    }
   ],
   "source": [
    "bio_data_tim"
   ]
  },
  {
   "cell_type": "code",
   "execution_count": 83,
   "id": "be464344",
   "metadata": {},
   "outputs": [
    {
     "data": {
      "text/html": [
       "<div>\n",
       "<style scoped>\n",
       "    .dataframe tbody tr th:only-of-type {\n",
       "        vertical-align: middle;\n",
       "    }\n",
       "\n",
       "    .dataframe tbody tr th {\n",
       "        vertical-align: top;\n",
       "    }\n",
       "\n",
       "    .dataframe thead th {\n",
       "        text-align: right;\n",
       "    }\n",
       "</style>\n",
       "<table border=\"1\" class=\"dataframe\">\n",
       "  <thead>\n",
       "    <tr style=\"text-align: right;\">\n",
       "      <th></th>\n",
       "      <th>name</th>\n",
       "      <th>age</th>\n",
       "      <th>DOB</th>\n",
       "      <th>Place</th>\n",
       "    </tr>\n",
       "  </thead>\n",
       "  <tbody>\n",
       "    <tr>\n",
       "      <th>0</th>\n",
       "      <td>Timothy Donald Cook</td>\n",
       "      <td>62</td>\n",
       "      <td>November 1, 1960</td>\n",
       "      <td>Mobile, Alabama, U.S.</td>\n",
       "    </tr>\n",
       "  </tbody>\n",
       "</table>\n",
       "</div>"
      ],
      "text/plain": [
       "                  name age               DOB                  Place\n",
       "0  Timothy Donald Cook  62  November 1, 1960  Mobile, Alabama, U.S."
      ]
     },
     "execution_count": 83,
     "metadata": {},
     "output_type": "execute_result"
    }
   ],
   "source": [
    "dic_to_pandas(bio_data_tim)"
   ]
  }
 ],
 "metadata": {
  "kernelspec": {
   "display_name": "Python 3 (ipykernel)",
   "language": "python",
   "name": "python3"
  },
  "language_info": {
   "codemirror_mode": {
    "name": "ipython",
    "version": 3
   },
   "file_extension": ".py",
   "mimetype": "text/x-python",
   "name": "python",
   "nbconvert_exporter": "python",
   "pygments_lexer": "ipython3",
   "version": "3.9.13"
  }
 },
 "nbformat": 4,
 "nbformat_minor": 5
}
