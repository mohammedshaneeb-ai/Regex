{
 "cells": [
  {
   "cell_type": "code",
   "execution_count": 3,
   "id": "ea3a047c",
   "metadata": {},
   "outputs": [],
   "source": [
    "import re"
   ]
  },
  {
   "cell_type": "code",
   "execution_count": 23,
   "id": "56bc664d",
   "metadata": {},
   "outputs": [],
   "source": [
    "chat1 = 'my phone number is 1234567890 and email is shanEeb_A123@gmail.com'\n",
    "chat2 = 'here it is: (123)-567-1234 , shaneeb_KottakkAl@yahoo.com'\n",
    "chat3 = 'phone: 1234567890 email: shaneeB_kottakkal@gmail.com'\n",
    "allchat = chat1+' '+chat2+' '+chat3\n"
   ]
  },
  {
   "cell_type": "code",
   "execution_count": 24,
   "id": "04f1467f",
   "metadata": {},
   "outputs": [
    {
     "data": {
      "text/plain": [
       "'my phone number is 1234567890 and email is shanEeb_A123@gmail.com here it is: (123)-567-1234 , shaneeb_KottakkAl@yahoo.com phone: 1234567890 email: shaneeB_kottakkal@gmail.com'"
      ]
     },
     "execution_count": 24,
     "metadata": {},
     "output_type": "execute_result"
    }
   ],
   "source": [
    "allchat"
   ]
  },
  {
   "cell_type": "code",
   "execution_count": 10,
   "id": "9128f8db",
   "metadata": {},
   "outputs": [
    {
     "data": {
      "text/plain": [
       "[]"
      ]
     },
     "execution_count": 10,
     "metadata": {},
     "output_type": "execute_result"
    }
   ],
   "source": [
    "pattern = '\\d{10}'\n",
    "\n",
    "matches = re.findall(pattern,chat2)\n",
    "matches"
   ]
  },
  {
   "cell_type": "code",
   "execution_count": 16,
   "id": "6c788e26",
   "metadata": {},
   "outputs": [
    {
     "data": {
      "text/plain": [
       "['(123)-567-1234']"
      ]
     },
     "execution_count": 16,
     "metadata": {},
     "output_type": "execute_result"
    }
   ],
   "source": [
    "pattern = '\\(\\d{3}\\)-\\d{3}-\\d{4}'\n",
    "matches = re.findall(pattern,chat2)\n",
    "matches"
   ]
  },
  {
   "cell_type": "code",
   "execution_count": 25,
   "id": "8a0f1ca8",
   "metadata": {},
   "outputs": [
    {
     "data": {
      "text/plain": [
       "['shanEeb_A123@gmail.com',\n",
       " 'shaneeb_KottakkAl@yahoo.com',\n",
       " 'shaneeB_kottakkal@gmail.com']"
      ]
     },
     "execution_count": 25,
     "metadata": {},
     "output_type": "execute_result"
    }
   ],
   "source": [
    "pattern = '[a-zA-Z\\d_]*@[a-zA-z]*\\.[a-zA-Z]*'\n",
    "matches = re.findall(pattern,allchat)\n",
    "matches"
   ]
  },
  {
   "cell_type": "code",
   "execution_count": 26,
   "id": "19129ff7",
   "metadata": {},
   "outputs": [],
   "source": [
    "chat = 'I have issue with this order number 123456 my order # 123456 my order 123456'"
   ]
  },
  {
   "cell_type": "code",
   "execution_count": 29,
   "id": "2d83bb40",
   "metadata": {},
   "outputs": [
    {
     "data": {
      "text/plain": [
       "['123456', '123456', '123456']"
      ]
     },
     "execution_count": 29,
     "metadata": {},
     "output_type": "execute_result"
    }
   ],
   "source": [
    "pattern = 'order[^\\d]*(\\d*)'\n",
    "\n",
    "matches = re.findall(pattern, chat)\n",
    "matches"
   ]
  },
  {
   "cell_type": "code",
   "execution_count": null,
   "id": "72d791b0",
   "metadata": {},
   "outputs": [],
   "source": []
  },
  {
   "cell_type": "code",
   "execution_count": null,
   "id": "b2ac48c2",
   "metadata": {},
   "outputs": [],
   "source": []
  },
  {
   "cell_type": "code",
   "execution_count": null,
   "id": "543e0054",
   "metadata": {},
   "outputs": [],
   "source": []
  }
 ],
 "metadata": {
  "kernelspec": {
   "display_name": "Python 3 (ipykernel)",
   "language": "python",
   "name": "python3"
  },
  "language_info": {
   "codemirror_mode": {
    "name": "ipython",
    "version": 3
   },
   "file_extension": ".py",
   "mimetype": "text/x-python",
   "name": "python",
   "nbconvert_exporter": "python",
   "pygments_lexer": "ipython3",
   "version": "3.9.13"
  }
 },
 "nbformat": 4,
 "nbformat_minor": 5
}
